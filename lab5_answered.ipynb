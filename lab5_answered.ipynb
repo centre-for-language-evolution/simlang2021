{
 "cells": [
  {
   "cell_type": "markdown",
   "metadata": {},
   "source": [
    "# Simulating Language, Lab 5, Rational Speech Act model"
   ]
  },
  {
   "cell_type": "markdown",
   "metadata": {},
   "source": [
    "This lab introduces the Rational Speech Act model, which is a way of doing Bayesian modelling of pragmatic inference and rational behaviour during communication. The RSA model is potentially very general, but here we are going to use it to model pragmatic word use, and see how pragmatic speakers and listeners can go beyond literal word use to facilitate communication. Our model of word meaning builds on the model we used in Lab 2; now we are going to move beyond single words to (very small!) lexicons, and model inference during communication rather than learning."
   ]
  },
  {
   "cell_type": "markdown",
   "metadata": {},
   "source": [
    "## Representing meanings, words, and lexicons"
   ]
  },
  {
   "cell_type": "markdown",
   "metadata": {},
   "source": [
    "As in Lab 2, we are going to assume that the meaning of a word is the set of things that that word can be used to refer to, and we are going to model \"things that words refer to\" (referents) as numbers. So a word meaning is just a set of numbers, representing the set of things that the word can be used to refer to. As in Lab 2, we will represent word meanings as sets, e.g. like this:\n",
    "```python\n",
    "a_word_meaning = {0,1,2}\n",
    "```\n",
    "We also need a representation of words, which we will just represent as strings (in python, you can represent these using single- or double-quoted strings of characters, e.g.:\n",
    "```python\n",
    "a_word = 'word'\n",
    "another_word = \"floccinaucinihilipilification\"\n",
    "```\n",
    "Now we have our representation of meanings and words, we can model a lexical entry, which is a pairing of a meaning and its associated word. We are going to represent these as *tuples* in python, which for our purposes work a bit like lists but use round brackets instead of square brackets. So this is how we would represent a lexical entry for a word which refers to referents 0, 1 and 2:\n",
    "```python\n",
    "a_lexical_entry = ({0,1,2},'dax')\n",
    "```\n",
    "You can access the elements in a tuple by index in the same way you would pull items out from a list, e.g. `a_lexical_entry[0]` will give you the meaning from `a_lexical_entry`, `a_lexical_entry[1]` will pull out the word.\n",
    "\n",
    "Check you can access the meaning and word from `a_lexical_entry` in this way, then create your own lexical entry for a word, *fep*, which can be used to refer to referents 6, 7, 8, and 9."
   ]
  },
  {
   "cell_type": "code",
   "execution_count": 1,
   "metadata": {},
   "outputs": [
    {
     "name": "stdout",
     "output_type": "stream",
     "text": [
      "{0, 1, 2}\n",
      "dax\n",
      "({8, 9, 6, 7}, 'fep')\n"
     ]
    }
   ],
   "source": [
    "a_lexical_entry = ({0,1,2},'dax')\n",
    "print(a_lexical_entry[0])\n",
    "print(a_lexical_entry[1])\n",
    "fep_lexical_entry = ({6,7,8,9},'fep')\n",
    "print(fep_lexical_entry)"
   ]
  },
  {
   "cell_type": "markdown",
   "metadata": {},
   "source": [
    "Now we have a way of representing meanings, words, and single lexical entries, we can represent a lexicon, which is just going to be a list of lexical entries. For instance, a lexicon with three very specific words which refer to single referents, would be represented like this:\n",
    "```python\n",
    "lab_tutor_lexicon = [({0},'tamar'),({1},'henry'),({2},'andres')]\n",
    "```"
   ]
  },
  {
   "cell_type": "markdown",
   "metadata": {},
   "source": [
    "Create `lab_tutor_lexicon` by copying that line of code into a cell. How would you access the first lexical entry from this lexicon? How would you access the meaning of the 2nd entry? How would you access the word from the 3rd entry? How would you count how many lexical entries the lexicon contains?"
   ]
  },
  {
   "cell_type": "code",
   "execution_count": 2,
   "metadata": {},
   "outputs": [
    {
     "name": "stdout",
     "output_type": "stream",
     "text": [
      "({0}, 'tamar')\n",
      "{1}\n",
      "andres\n",
      "3\n"
     ]
    }
   ],
   "source": [
    "lab_tutor_lexicon = [({0},'tamar'),({1},'henry'),({2},'andres')]\n",
    "#first entry\n",
    "print(lab_tutor_lexicon[0])\n",
    "#meaning of second entry\n",
    "print(lab_tutor_lexicon[1][0])\n",
    "#word from third entry\n",
    "print(lab_tutor_lexicon[2][1])\n",
    "#number of lexical entries\n",
    "print(len(lab_tutor_lexicon))"
   ]
  },
  {
   "cell_type": "markdown",
   "metadata": {},
   "source": [
    "## The code\n",
    "\n",
    "Now we've introduced the notation we are going to be using to represent lexicons we can get on and build the model. As usual we start by loading the libraries we need and various libraries for manipulating log probabilities.  "
   ]
  },
  {
   "cell_type": "code",
   "execution_count": 3,
   "metadata": {},
   "outputs": [],
   "source": [
    "from scipy.special import logsumexp\n",
    "from math import log, log1p, exp\n",
    "\n",
    "%matplotlib inline\n",
    "import matplotlib.pyplot as plt\n",
    "from IPython.display import set_matplotlib_formats\n",
    "set_matplotlib_formats('svg', 'pdf')"
   ]
  },
  {
   "cell_type": "markdown",
   "metadata": {},
   "source": [
    "### Functions for dealing with log probabilities\n",
    "\n",
    "As per Lab 4, we are going to deal with log-probabilities rather than raw probabilities, so we need a couple of functions for dealing with those. I am also providing a little utility function that will convert log probabilities to normal probabiltities, which you might find helpful when it comes to looking at the model results. "
   ]
  },
  {
   "cell_type": "code",
   "execution_count": 4,
   "metadata": {},
   "outputs": [],
   "source": [
    "def log_subtract(x,y):\n",
    "    return x + log1p(-exp(y - x))\n",
    "\n",
    "def normalize_logprobs(logprobs):\n",
    "    logtotal = logsumexp(logprobs) #calculates the summed log probabilities\n",
    "    normedlogs = []\n",
    "    for logp in logprobs:\n",
    "        normedlogs.append(logp - logtotal) #normalise - subtracting in the log domain\n",
    "                                           #is equivalent to dividing in the normal domain\n",
    "    return normedlogs\n",
    "\n",
    "#A little utility function that converts a list of log probabilities to normal probabilities \n",
    "#Note there are other ways this could be written, e.g. using list comprehensions\n",
    "def logprobs_to_probs(logprobs):\n",
    "    probs = []\n",
    "    for logp in logprobs:\n",
    "        probs.append(exp(logp))\n",
    "    return probs"
   ]
  },
  {
   "cell_type": "markdown",
   "metadata": {},
   "source": [
    "### Possible words and possible referents\n",
    "We'll start out with a very simple two-word lexicon, where one of the words has a specific meaning and the other has a more general meaning that subsumes the meaning of the first word - that's `small_lexicon` below. \n",
    "\n",
    "In order to make the code work smoothly we also have to specify what words our model has to consider, and what possible referents there are that words can refer to. These are just lists. **Important point to note for when you are creating your own lexicons**: if your lexicon refers to a word that isn't in `possible_words` or referent that isn't in `possible_referents`, or there are possible words or referents that aren't covered in your lexicon, your code will break! "
   ]
  },
  {
   "cell_type": "code",
   "execution_count": 5,
   "metadata": {},
   "outputs": [],
   "source": [
    "small_lexicon = [({0}, 'word1'), ({0, 1, 2}, 'word2')]\n",
    "possible_words = ['word1','word2']\n",
    "possible_referents = [0,1,2]"
   ]
  },
  {
   "cell_type": "markdown",
   "metadata": {},
   "source": [
    "### A literal speaker and a literal listener"
   ]
  },
  {
   "cell_type": "markdown",
   "metadata": {},
   "source": [
    "We'll start by writing functions for our literal speaker (*s0* in Frank & Goodman's terms) and a literal listener (*l0*). The literal speaker and literal listener just use words as dictated by their lexicon, without doing any fancy pragmatics. \n",
    "\n",
    "For our model of a literal speaker, we are going to provide a target referent (the object the literal speaker wants to refer to) and the speaker's lexicon, and the literal speaker will return a (log) probability distribution over possible words. The values in this probability distribution give the (log) probability of the literal speaker producing each of those words in order to label the target referent. The literal speaker behaves as you would expect - they are equally likely to use any of the words that include the target referent in their meaning. We also include a small probability of the literal speaker making a mistake and using the wrong word to refer to an object - this is specified by `error_probability`, it ensures we never deal with zero probabilities (which don't play nice in the log domain) but you can think of it as the probability of lexical access errors by the speaker. It can be very small if you like."
   ]
  },
  {
   "cell_type": "code",
   "execution_count": 6,
   "metadata": {},
   "outputs": [],
   "source": [
    "error_probability = 0.001 #you can make this as small as you like, as long as it's not 0\n",
    "\n",
    "def s0(target_referent,lexicon):\n",
    "    word_probs = []\n",
    "    for candidate_word in possible_words: #consider each possible word\n",
    "        for meaning,word in lexicon: #work through the lexicon\n",
    "            if word==candidate_word: #if the word for this lexical entry is the one we want\n",
    "                if target_referent in meaning: #can this word be used to refer to this referent?\n",
    "                    word_probs.append(log(1-error_probability)) #if yes, it is likely to be used                \n",
    "                else:\n",
    "                    word_probs.append(log(error_probability)) #otherwise it is unlikely to be used \n",
    "    return normalize_logprobs(word_probs) #normalise these so they are true log probabilities"
   ]
  },
  {
   "cell_type": "markdown",
   "metadata": {},
   "source": [
    "Check that the literal speaker behaves as expected using `small_lexicon`. How likely are they to produce word1 to convey target referent 0? How likely are they to use word2? You can find this out by calling `s0(0,small_lexicon)` or, if you'd rather see probabilities than log probabilities, `logprobs_to_probs(s0(0,lexicon))`. If you want to see the words printed out alongside their probabilities of being produced you can do something like:\n",
    "```python\n",
    "s0_probabilities = logprobs_to_probs(s0(0,small_lexicon))\n",
    "for i in range(len(possible_words)):\n",
    "    print(possible_words[i],s0_probabilities[i])\n",
    "```"
   ]
  },
  {
   "cell_type": "markdown",
   "metadata": {},
   "source": [
    "*OK, so using the suggested code above, here are the probabilities for the two available words (word1 and word2) for a literal speaker labelling referent 0. Referent 0 can be labelled using either word, so the literal speaker just decides that both are equally possible.*"
   ]
  },
  {
   "cell_type": "code",
   "execution_count": 7,
   "metadata": {},
   "outputs": [
    {
     "name": "stdout",
     "output_type": "stream",
     "text": [
      "word1 0.5\n",
      "word2 0.5\n"
     ]
    }
   ],
   "source": [
    "s0_probabilities = logprobs_to_probs(s0(0,small_lexicon))\n",
    "for i in range(len(possible_words)):\n",
    "    print(possible_words[i],s0_probabilities[i])"
   ]
  },
  {
   "cell_type": "markdown",
   "metadata": {},
   "source": [
    "Check the literal speaker's behaviour for referents 0, 1 and 2, and make sure you understand why the literal speaker behaves the way they do."
   ]
  },
  {
   "cell_type": "markdown",
   "metadata": {},
   "source": [
    "*And here are the outputs for refernts 1 and 2. According to `small_lexicon` these can only be labelled using word 2, so that's what the literal speaker does (note that, because of `error_probability`, a small probability is assigned to word1 in both cases).*"
   ]
  },
  {
   "cell_type": "code",
   "execution_count": 8,
   "metadata": {},
   "outputs": [
    {
     "name": "stdout",
     "output_type": "stream",
     "text": [
      "For referent 1\n",
      "word1 0.0010000000000000002\n",
      "word2 0.9989999999999999\n",
      "For referent 2\n",
      "word1 0.0010000000000000002\n",
      "word2 0.9989999999999999\n"
     ]
    }
   ],
   "source": [
    "print(\"For referent 1\")\n",
    "s0_probabilities = logprobs_to_probs(s0(1,small_lexicon))\n",
    "for i in range(len(possible_words)):\n",
    "    print(possible_words[i],s0_probabilities[i])\n",
    "\n",
    "print(\"For referent 2\")\n",
    "s0_probabilities = logprobs_to_probs(s0(2,small_lexicon))\n",
    "for i in range(len(possible_words)):\n",
    "    print(possible_words[i],s0_probabilities[i])"
   ]
  },
  {
   "cell_type": "markdown",
   "metadata": {},
   "source": [
    "We can do the same for a literal listener, who receives a word and, based on their lexicon, returns a (log) probability distribution over referents, indicating how likely they think it is that the word they heard refers to each possible referent. The literal hearer just assumes that all referents included in the word's meaning are equally likely, and any others are very unlikely (but can occur with some small probability given by `error_probability`)."
   ]
  },
  {
   "cell_type": "code",
   "execution_count": 9,
   "metadata": {},
   "outputs": [],
   "source": [
    "def l0(received_word,lexicon):\n",
    "    referent_probs = []\n",
    "    for candidate_referent in possible_referents: #consider each possible referent in turn\n",
    "        for meaning,word in lexicon: #consider each lexical entry\n",
    "            if word==received_word: #if this lexical entry matches the received word\n",
    "                if candidate_referent in meaning: #if the candidate referent is included in the word's meaning \n",
    "                    referent_probs.append(log(1-error_probability)) #then it's likely to be this referent they arer talking about\n",
    "                else:\n",
    "                    referent_probs.append(log(error_probability)) #otherwise it's quite unlikely\n",
    "    return normalize_logprobs(referent_probs) #normalise at the end"
   ]
  },
  {
   "cell_type": "markdown",
   "metadata": {},
   "source": [
    "How likely does a literal speaker who uses `small_lexicon` think each referent is after hearing word1? Again, you can see this probability distribution by running something like the following:\n",
    "```python\n",
    "l0_probabilities = logprobs_to_probs(l0('word1',small_lexicon))\n",
    "for i in range(len(possible_referents)):\n",
    "    print('referent',possible_referents[i],l0_probabilities[i])\n",
    "```\n",
    "Also check out the literal listener estimates given word2, and make sure you understand them."
   ]
  },
  {
   "cell_type": "markdown",
   "metadata": {},
   "source": [
    "*Here are the literal listener probabilities over each referent after hearing word1 and word2. Word1 can only be used to refer to referent 0, so that's where the literal listener assigns the probability; word2 is 3-ways-ambiguous for the literal listener (it can refer to referents 0, 1 or 2), so the probabiity is split over those three interpretations.*"
   ]
  },
  {
   "cell_type": "code",
   "execution_count": 10,
   "metadata": {},
   "outputs": [
    {
     "name": "stdout",
     "output_type": "stream",
     "text": [
      "After hearing word1\n",
      "referent 0 0.9980019980019978\n",
      "referent 1 0.0009990009990009992\n",
      "referent 2 0.0009990009990009992\n",
      "After hearing word2\n",
      "referent 0 0.3333333333333333\n",
      "referent 1 0.3333333333333333\n",
      "referent 2 0.3333333333333333\n"
     ]
    }
   ],
   "source": [
    "print(\"After hearing word1\")\n",
    "l0_probabilities = logprobs_to_probs(l0('word1',small_lexicon))\n",
    "for i in range(len(possible_referents)):\n",
    "    print('referent',possible_referents[i],l0_probabilities[i])\n",
    "print(\"After hearing word2\")\n",
    "l0_probabilities = logprobs_to_probs(l0('word2',small_lexicon))\n",
    "for i in range(len(possible_referents)):\n",
    "    print('referent',possible_referents[i],l0_probabilities[i])"
   ]
  },
  {
   "cell_type": "markdown",
   "metadata": {},
   "source": [
    "### A pragmatic speaker and a pragmatic listener"
   ]
  },
  {
   "cell_type": "markdown",
   "metadata": {},
   "source": [
    "Now we can move on to define our pragmatic speaker (*s1*), who reasons about a literal listener when selecting their word to convey an intended referent, and a pragmatic listener, (*l1*), who reasons about a pragmatic speaker when interpreting words. Because the l1 model builds on the s1 model, we will build the s1 model first.\n",
    "\n",
    "Just like the literal speaker, our s1 speaker has a target referent they'd like to convey, and a lexicon that they are going to use. But unlike s0, who just looks up the target referent in their lexicon in a fairly dumb way, s1 is going to be pragmatic: they will reason about how a literal listener might interpret the word they produce, and weight their production in favour of words that are more likely to be interpreted as conveying their intended referent. The crucial line in the s1 definition below is `l0_prob_of_target_referent = l0(candidate_word,lexicon)[target_referent]`: if I use this particular `candidate_word`, what's the probability that the literal listener will correctly conclude I was talking about `target_referent`? For the pragmatic speaker, this *probability of correct interpretation by a literal listener* is what determines the probability of producing a particular word - the pragmatic speaker is more likely to use words that have a better chance of being interpreted correctly by the literal listener."
   ]
  },
  {
   "cell_type": "code",
   "execution_count": 11,
   "metadata": {},
   "outputs": [],
   "source": [
    "def s1(target_referent,lexicon):\n",
    "    word_probs = []\n",
    "    for candidate_word in possible_words: #consider each candidate word\n",
    "        l0_prob_of_target_referent = l0(candidate_word,lexicon)[target_referent] #how likely is the literal listener  \n",
    "                                                            #to choose target_referent if they hear this word?\n",
    "        word_probs.append(l0_prob_of_target_referent)#note that down\n",
    "    return normalize_logprobs(word_probs) #and normalise at the end"
   ]
  },
  {
   "cell_type": "markdown",
   "metadata": {},
   "source": [
    "Use `s1(0,small_lexicon)` to figure out how likely the pragmatic speaker is to produce each word in order to convey referent 0 to a literal listener; e.g. you could do:\n",
    "```python\n",
    "s1_probabilities = logprobs_to_probs(s1(0,small_lexicon))\n",
    "for i in range(len(possible_words)):\n",
    "    print(possible_words[i],s1_probabilities[i])\n",
    "```\n",
    "Are these the same or different than the literal speaker probabilities for conveying the same target referent? Can you figure out why the pragmatic speaker behaves like this? It might help to look back at the literal listener's behaviour. Similarly, what does the pragmatic speaker do to convey referents 1 and 2? Why?"
   ]
  },
  {
   "cell_type": "markdown",
   "metadata": {},
   "source": [
    "*Here are the s1 pragmatic speaker probabilities for each word, given that they want to convey referent 0 to a pragmatic listener. Recall that the literal speaker would be equally likely to use word1 and word2 to do this. However, the pragmatic speaker knows that the literal listener finds word2 ambiguous (see above - l0 will interpret word2 as meaning referent 0 or 1 or 2). As a result the pragmatic speaker prefers to use word1 rather than word2 - s1 has 3 times to probability of using word1 because it's 3 times more likely to be correctly interpreted as conveying referent 0 by the literal listener.*"
   ]
  },
  {
   "cell_type": "code",
   "execution_count": 12,
   "metadata": {},
   "outputs": [
    {
     "name": "stdout",
     "output_type": "stream",
     "text": [
      "word1 0.7496248124062032\n",
      "word2 0.2503751875937969\n"
     ]
    }
   ],
   "source": [
    "s1_probabilities = logprobs_to_probs(s1(0,small_lexicon))\n",
    "for i in range(len(possible_words)):\n",
    "    print(possible_words[i],s1_probabilities[i])"
   ]
  },
  {
   "cell_type": "markdown",
   "metadata": {},
   "source": [
    "*Here's the same stuff for a pragmatic speaker attempting to convey referents 1 and 2 - there's nothing fancy going on here, a literal listener would never interpret word1 as conveying either of these referents so the pragmatic speaker has no choice but to use word2.*"
   ]
  },
  {
   "cell_type": "code",
   "execution_count": 13,
   "metadata": {},
   "outputs": [
    {
     "name": "stdout",
     "output_type": "stream",
     "text": [
      "For referent 1\n",
      "word1 0.002988047808764942\n",
      "word2 0.9970119521912352\n",
      "For referent 2\n",
      "word1 0.002988047808764942\n",
      "word2 0.9970119521912352\n"
     ]
    }
   ],
   "source": [
    "print(\"For referent 1\")\n",
    "s1_probabilities = logprobs_to_probs(s1(1,small_lexicon))\n",
    "for i in range(len(possible_words)):\n",
    "    print(possible_words[i],s1_probabilities[i])\n",
    "print(\"For referent 2\")\n",
    "s1_probabilities = logprobs_to_probs(s1(2,small_lexicon))\n",
    "for i in range(len(possible_words)):\n",
    "    print(possible_words[i],s1_probabilities[i])"
   ]
  },
  {
   "cell_type": "markdown",
   "metadata": {},
   "source": [
    "Now we have the pragmatic speaker we can define our pragmatic listener, l1, who reasons about the behaviour of a pragmatic speaker to calculate a probability distribution over referents given a received word. The key line in the definition of our l1 listener is `s1_prob_of_word_given_meaning = s1(candidate_referent,lexicon)[word_index]`: how likely is a pragmatic speaker to use this word to convey some `candidate_referent`? That determines the pragmatic listener's interpretation of the word - they reason about how a pragmatic speaker would be likely to behave, and interpret the word they received accordingly."
   ]
  },
  {
   "cell_type": "code",
   "execution_count": 14,
   "metadata": {},
   "outputs": [],
   "source": [
    "def l1(received_word,lexicon):\n",
    "    word_index = possible_words.index(received_word) #.index tells me the index of received_word in possible_words\n",
    "    referent_probs = []\n",
    "    for candidate_referent in possible_referents: #consider each possible referent\n",
    "        s1_prob_of_word_given_meaning = s1(candidate_referent,lexicon)[word_index] #how likely is the pragmatic speaker\n",
    "                                                                #to use this word to convey this candidate referent?\n",
    "        referent_probs.append(s1_prob_of_word_given_meaning) #note that down\n",
    "    return normalize_logprobs(referent_probs) #and normalise at the end"
   ]
  },
  {
   "cell_type": "markdown",
   "metadata": {},
   "source": [
    "How does a pragmatic listener who uses `small_lexicon` interpret word 1? You can get a nicely formatted list as follows:\n",
    "```python\n",
    "l1_probabilities = logprobs_to_probs(l1('word1',small_lexicon))\n",
    "for i in range(len(possible_referents)):\n",
    "    print('referent',possible_referents[i],l1_probabilities[i])\n",
    "```\n",
    "And how does the pragmatic listener interpret word2? Again, make sense of these behaviours in terms of the behaviour of the pragmatic speaker, who l1 is reasoning about."
   ]
  },
  {
   "cell_type": "markdown",
   "metadata": {},
   "source": [
    "*OK, so here are the pragmatic listener's probabilities for each referent after hearing word1 and word2. Just like for the literal listener, word1 is unambiguous - it can only be used to label referent 0 by the pragmatic speaker (because it can only be interpreted as meaning referent 0 by the literal listener), so the pragmatic listener interprets it as conveying referent 0. Stuff gets more interesting for word2. Remember that for a literal listener this word was 3-ways ambiguous, equally likely to be interpreted as conveying referents 0, 1 or 2. However, a pragmatic speaker has a preferred way of conveying referent 0 - they will tend to use word1, and will mainly use word 2 to refer to referents 1 and 2. That means, for a pragmatic listener reasoning about the pragmatic speaker, word2 becomes less ambiguous - the pragmatic speaker is unlikely to use it to refer to referent 0, so the pragmatic listener tends to interpret it as conveying referent 1 or referent 2 (equally likely).*"
   ]
  },
  {
   "cell_type": "code",
   "execution_count": 15,
   "metadata": {
    "scrolled": true
   },
   "outputs": [
    {
     "name": "stdout",
     "output_type": "stream",
     "text": [
      "After hearing word1\n",
      "referent 0 0.9920909364267967\n",
      "referent 1 0.003954531786601677\n",
      "referent 2 0.003954531786601677\n",
      "After hearing word2\n",
      "referent 0 0.11155555555555559\n",
      "referent 1 0.4442222222222223\n",
      "referent 2 0.4442222222222223\n"
     ]
    }
   ],
   "source": [
    "print(\"After hearing word1\")\n",
    "l1_probabilities = logprobs_to_probs(l1('word1',small_lexicon))\n",
    "for i in range(len(possible_referents)):\n",
    "    print('referent',possible_referents[i],l1_probabilities[i])\n",
    "print(\"After hearing word2\")\n",
    "l1_probabilities = logprobs_to_probs(l1('word2',small_lexicon))\n",
    "for i in range(len(possible_referents)):\n",
    "    print('referent',possible_referents[i],l1_probabilities[i])"
   ]
  },
  {
   "cell_type": "markdown",
   "metadata": {},
   "source": [
    "## Questions\n",
    "The main aim for today's lab is to work through the questions above and make sure your understand why the RSA model behaves the way it does. Once you are happy with that, attempt the questions below.\n",
    "1. How do synonymy (several ways of expressing a given meaning) and ambiguity (several meanings expressed using the same signal) in the lexicon affect communication between literal speakers and literal listeners? How does the availability of pragmatic inference (i.e. moving up to s1 and l1) change the consequences of ambiguity? "
   ]
  },
  {
   "cell_type": "markdown",
   "metadata": {},
   "source": [
    "*The `small_lexicon` example illustrates these various points. Ambiguity is generally a problem, and especially so for literal speakers and listeners. For example, imagine a literal speaker attempting to convey referent 1 to a literal listener. The literal speaker uses word2, because that's what's specified in their lexicon. However, the literal listener will often interpret word2 as conveying referent 0 or referent 2, because it's ambiguous; as a result, they will fail to communicate about referent 1 most of the time (on average, two thirds of the time), and the same for referent 2. They also don't do great with referent 0, but this time because of the combination of synonymy and ambiguity in `small_lexicon`. There are two ways of expressing referent 0, which in itself isn't necessarily a problem - you can construct a toy lexicon where every referent has several words associated with it and where perfect communication is posisble. But in `small_lexicon` one of the synonymous forms, word2, is ambiguous; as a result, the literal speaker will often use word2 to label referent 0, and when that happens the literal listener is unlikely to arrive at the correct interpretation.*\n",
    "\n",
    "*Some but not all of these problems are reduced for pragmatic speakers and listeners. In particular, the pragmatic speaker is aware of the ambiguity of word2, and as a result tends to avoid it when other options are available (i.e. for referent 0, where word1 is a better option). For referents 1 and 2 they have no choice to but to use the highly ambiguous word2, because they have no other means available for expressing those referents. But the pragmatic listener can reduce the ambiguity a little, because they know that the pragmatic speaker has a better way of expressing referent 0, so word2 becomes effectively 2-and-a-bit-ways ambiguous. Note that it's not magic though - in particular, the problems posed by ambiguity are reduced, but not eliminated.*"
   ]
  },
  {
   "cell_type": "markdown",
   "metadata": {},
   "source": [
    "2. Are there cases where perfect communication between pragmatic individuals is possible even if their lexicon contains ambiguous entries? Is perfect communication possible when the lexicon *only* contains ambiguous entries? Play around with different lexicons to find out."
   ]
  },
  {
   "cell_type": "markdown",
   "metadata": {},
   "source": [
    "*The aim here was encourage you to play around with different lexicons to explore this. In answer to the first part of the question: I don't think **perfect** communication is possible when there's ambiguity, but decent communication should be possible even when the lexicon contains ambiguity. For example, in `small_lexicon2` below (a minor extension to `small_lexicon`), there is one highly ambiguous word but in practice, for pragmatic speakers and listeners, they still communicate succesfully most of the time.* "
   ]
  },
  {
   "cell_type": "code",
   "execution_count": 16,
   "metadata": {},
   "outputs": [],
   "source": [
    "small_lexicon2 = [({0}, 'word1'), ({0, 1, 2}, 'word2'),({2}, 'word3')]\n",
    "possible_words = ['word1','word2','word3']\n",
    "possible_referents = [0,1,2]"
   ]
  },
  {
   "cell_type": "code",
   "execution_count": 17,
   "metadata": {},
   "outputs": [
    {
     "name": "stdout",
     "output_type": "stream",
     "text": [
      "S1, for referent 0\n",
      "word1 0.7490627343164209\n",
      "word2 0.25018745313671586\n",
      "word3 0.0007498125468632841\n",
      "S1, for referent 1\n",
      "word1 0.002979145978152929\n",
      "word2 0.9940417080436941\n",
      "word3 0.002979145978152929\n",
      "S1, for referent 2\n",
      "word1 0.0007498125468632841\n",
      "word2 0.2501874531367158\n",
      "word3 0.7490627343164209\n"
     ]
    }
   ],
   "source": [
    "print(\"S1, for referent 0\")\n",
    "s1_probabilities = logprobs_to_probs(s1(0,small_lexicon2))\n",
    "for i in range(len(possible_words)):\n",
    "    print(possible_words[i],s1_probabilities[i])\n",
    "print(\"S1, for referent 1\")\n",
    "s1_probabilities = logprobs_to_probs(s1(1,small_lexicon2))\n",
    "for i in range(len(possible_words)):\n",
    "    print(possible_words[i],s1_probabilities[i])\n",
    "print(\"S1, for referent 2\")\n",
    "s1_probabilities = logprobs_to_probs(s1(2,small_lexicon2))\n",
    "for i in range(len(possible_words)):\n",
    "    print(possible_words[i],s1_probabilities[i])"
   ]
  },
  {
   "cell_type": "code",
   "execution_count": 18,
   "metadata": {},
   "outputs": [
    {
     "name": "stdout",
     "output_type": "stream",
     "text": [
      "L1, after hearing word1\n",
      "referent 0 0.9950464935247344\n",
      "referent 1 0.003957463939204809\n",
      "referent 2 0.0009960425360607953\n",
      "L1, after hearing word2\n",
      "referent 0 0.1674147963424772\n",
      "referent 1 0.6651704073150456\n",
      "referent 2 0.16741479634247713\n",
      "L1, after hearing word3\n",
      "referent 0 0.0009960425360607953\n",
      "referent 1 0.003957463939204809\n",
      "referent 2 0.9950464935247344\n"
     ]
    }
   ],
   "source": [
    "print(\"L1, after hearing word1\")\n",
    "l1_probabilities = logprobs_to_probs(l1('word1',small_lexicon2))\n",
    "for i in range(len(possible_referents)):\n",
    "    print('referent',possible_referents[i],l1_probabilities[i])\n",
    "print(\"L1, after hearing word2\")\n",
    "l1_probabilities = logprobs_to_probs(l1('word2',small_lexicon2))\n",
    "for i in range(len(possible_referents)):\n",
    "    print('referent',possible_referents[i],l1_probabilities[i])\n",
    "print(\"L1, after hearing word3\")\n",
    "l1_probabilities = logprobs_to_probs(l1('word3',small_lexicon2))\n",
    "for i in range(len(possible_referents)):\n",
    "    print('referent',possible_referents[i],l1_probabilities[i])"
   ]
  },
  {
   "cell_type": "markdown",
   "metadata": {},
   "source": [
    "*Regarding the second part of the question, I couldn't come up with any cases where the lexicon contains **only** ambiguous cases but communication nonetheless succeeds most of the time - in the examples above, there is always at least one signal which is unambiguous, and reasioning about the use of that unambiguous signal reduces ambiguity elsewhere. So for instance, `lexicon3` should work OK despite using 3 ambiguous words, but it's reliant on word1 being unambiguous.*"
   ]
  },
  {
   "cell_type": "code",
   "execution_count": 19,
   "metadata": {},
   "outputs": [],
   "source": [
    "lexicon3 = [({0}, 'word1'), ({0, 1, 2, 3}, 'word2'),({1,2,3}, 'word3'),({0,3}, 'word4')]\n",
    "possible_words = ['word1','word2','word3','word4']\n",
    "possible_referents = [0,1,2,3]"
   ]
  },
  {
   "cell_type": "code",
   "execution_count": 20,
   "metadata": {},
   "outputs": [
    {
     "name": "stdout",
     "output_type": "stream",
     "text": [
      "S1, for referent 0\n",
      "word1 0.5707484649084265\n",
      "word2 0.1431156060656265\n",
      "word3 0.00019094810682538586\n",
      "word4 0.2859449809191217\n",
      "S1, for referent 1\n",
      "word1 0.0017068062190903897\n",
      "word2 0.4275549578821427\n",
      "word3 0.5698831259830027\n",
      "word4 0.0008551099157642853\n",
      "S1, for referent 2\n",
      "word1 0.0017068062190903897\n",
      "word2 0.4275549578821427\n",
      "word3 0.5698831259830027\n",
      "word4 0.0008551099157642853\n",
      "S1, for referent 3\n",
      "word1 0.0009209056324094245\n",
      "word2 0.23068686091856078\n",
      "word3 0.30747988533374543\n",
      "word4 0.46091234811528436\n",
      "L1, after hearing word1\n",
      "referent 0 0.9924627954592974\n",
      "referent 1 0.002967930315463129\n",
      "referent 2 0.002967930315463129\n",
      "referent 3 0.0016013439097762804\n",
      "L1, after hearing word2\n",
      "referent 0 0.11645712751754302\n",
      "referent 1 0.3479132962481121\n",
      "referent 2 0.3479132962481121\n",
      "referent 3 0.1877162799862328\n",
      "L1, after hearing word3\n",
      "referent 0 0.0001319215244314055\n",
      "referent 1 0.3937187541542961\n",
      "referent 2 0.3937187541542961\n",
      "referent 3 0.2124305701669763\n",
      "L1, after hearing word4\n",
      "referent 0 0.38198954971040733\n",
      "referent 1 0.0011423283270290835\n",
      "referent 2 0.0011423283270290835\n",
      "referent 3 0.6157257936355345\n"
     ]
    }
   ],
   "source": [
    "print(\"S1, for referent 0\")\n",
    "s1_probabilities = logprobs_to_probs(s1(0,lexicon3))\n",
    "for i in range(len(possible_words)):\n",
    "    print(possible_words[i],s1_probabilities[i])\n",
    "print(\"S1, for referent 1\")\n",
    "s1_probabilities = logprobs_to_probs(s1(1,lexicon3))\n",
    "for i in range(len(possible_words)):\n",
    "    print(possible_words[i],s1_probabilities[i])\n",
    "print(\"S1, for referent 2\")\n",
    "s1_probabilities = logprobs_to_probs(s1(2,lexicon3))\n",
    "for i in range(len(possible_words)):\n",
    "    print(possible_words[i],s1_probabilities[i])\n",
    "print(\"S1, for referent 3\")\n",
    "s1_probabilities = logprobs_to_probs(s1(3,lexicon3))\n",
    "for i in range(len(possible_words)):\n",
    "    print(possible_words[i],s1_probabilities[i])\n",
    "print(\"L1, after hearing word1\")\n",
    "l1_probabilities = logprobs_to_probs(l1('word1',lexicon3))\n",
    "for i in range(len(possible_referents)):\n",
    "    print('referent',possible_referents[i],l1_probabilities[i])\n",
    "print(\"L1, after hearing word2\")\n",
    "l1_probabilities = logprobs_to_probs(l1('word2',lexicon3))\n",
    "for i in range(len(possible_referents)):\n",
    "    print('referent',possible_referents[i],l1_probabilities[i])\n",
    "print(\"L1, after hearing word3\")\n",
    "l1_probabilities = logprobs_to_probs(l1('word3',lexicon3))\n",
    "for i in range(len(possible_referents)):\n",
    "    print('referent',possible_referents[i],l1_probabilities[i])\n",
    "print(\"L1, after hearing word4\")\n",
    "l1_probabilities = logprobs_to_probs(l1('word4',lexicon3))\n",
    "for i in range(len(possible_referents)):\n",
    "    print('referent',possible_referents[i],l1_probabilities[i])"
   ]
  },
  {
   "cell_type": "markdown",
   "metadata": {},
   "source": [
    "3. [Mainly a coding problem] There's no reason to stop at `l1`, a pragmatic listener who reasons about a pragmatic speaker who reasons about a a literal listener - we could happy model `s2` (a pragmatic speaker who reasons about an `l1` listener), `l2` (a pragmatic listener who reasons about `s2`), or even higher (s3, l3, s4, l4, etc). Either adapt the code for `s1` and `l1` to produce code for `s2` and `l2` (which should be relatively straightforward) or (more ambitiously), write two recursive functions, `sn` and `ln` which can handle *any* level of recursion. Using either of these techniques, what happens when we model higher and higher levels of pragmatic reasoning? "
   ]
  },
  {
   "cell_type": "markdown",
   "metadata": {},
   "source": [
    "*I will just provide the non-recursive definitions for s2 and l2 and leave you the fun of writing the recursive one yourself - the only thing to remember if you attempt that is that sn models ln-1, but ln models sn, that's just the naming convention. Notice that my s2 and l2 definitions are literally just cut-and-paste of the s1 and l1 definitions, but s2 reasons about l1 rather than l0 and l2 reasons about s2 rather than s1.*"
   ]
  },
  {
   "cell_type": "code",
   "execution_count": 21,
   "metadata": {},
   "outputs": [],
   "source": [
    "def s2(target_referent,lexicon):\n",
    "    word_probs = []\n",
    "    for candidate_word in possible_words: #consider each candidate word\n",
    "        l0_prob_of_target_referent = l1(candidate_word,lexicon)[target_referent] #how likely is the literal listener  \n",
    "                                                            #to choose target_referent if they hear this word?\n",
    "        word_probs.append(l0_prob_of_target_referent)#note that down\n",
    "    return normalize_logprobs(word_probs) #and normalise at the end\n",
    "\n",
    "def l2(received_word,lexicon):\n",
    "    word_index = possible_words.index(received_word) #.index tells me the index of received_word in possible_words\n",
    "    referent_probs = []\n",
    "    for candidate_referent in possible_referents: #consider each possible referent\n",
    "        s1_prob_of_word_given_meaning = s2(candidate_referent,lexicon)[word_index] #how likely is the pragmatic speaker\n",
    "                                                                #to use this word to convey this candidate referent?\n",
    "        referent_probs.append(s1_prob_of_word_given_meaning) #note that down\n",
    "    return normalize_logprobs(referent_probs) #and normalise at the end\n"
   ]
  },
  {
   "cell_type": "markdown",
   "metadata": {},
   "source": [
    "*To see what difference this makes, let's try s2 and l2 on `small_lexicon`, which we already tested extensively above. Remember I have to redefine `possible_words` and `possible_referents` whenever I redefine the lexicon.*"
   ]
  },
  {
   "cell_type": "code",
   "execution_count": 22,
   "metadata": {},
   "outputs": [],
   "source": [
    "small_lexicon = [({0}, 'word1'), ({0, 1, 2}, 'word2')]\n",
    "possible_words = ['word1','word2']\n",
    "possible_referents = [0,1,2]"
   ]
  },
  {
   "cell_type": "code",
   "execution_count": 23,
   "metadata": {},
   "outputs": [
    {
     "name": "stdout",
     "output_type": "stream",
     "text": [
      "S1, for referent 0\n",
      "word1 0.7496248124062032\n",
      "word2 0.2503751875937969\n",
      "S1, for referent 1\n",
      "word1 0.002988047808764942\n",
      "word2 0.9970119521912352\n",
      "S1, for referent 2\n",
      "word1 0.002988047808764942\n",
      "word2 0.9970119521912352\n",
      "S2, for referent 0\n",
      "word1 0.8989209349497581\n",
      "word2 0.10107906505024204\n",
      "S2, for referent 1\n",
      "word1 0.00882359861645974\n",
      "word2 0.9911764013835402\n",
      "S2, for referent 2\n",
      "word1 0.00882359861645974\n",
      "word2 0.9911764013835402\n"
     ]
    }
   ],
   "source": [
    "print(\"S1, for referent 0\")\n",
    "s1_probabilities = logprobs_to_probs(s1(0,small_lexicon))\n",
    "for i in range(len(possible_words)):\n",
    "    print(possible_words[i],s1_probabilities[i])\n",
    "print(\"S1, for referent 1\")\n",
    "s1_probabilities = logprobs_to_probs(s1(1,small_lexicon))\n",
    "for i in range(len(possible_words)):\n",
    "    print(possible_words[i],s1_probabilities[i])\n",
    "print(\"S1, for referent 2\")\n",
    "s1_probabilities = logprobs_to_probs(s1(2,small_lexicon))\n",
    "for i in range(len(possible_words)):\n",
    "    print(possible_words[i],s1_probabilities[i])\n",
    "print(\"S2, for referent 0\")\n",
    "s1_probabilities = logprobs_to_probs(s2(0,small_lexicon))\n",
    "for i in range(len(possible_words)):\n",
    "    print(possible_words[i],s1_probabilities[i])\n",
    "print(\"S2, for referent 1\")\n",
    "s1_probabilities = logprobs_to_probs(s2(1,small_lexicon))\n",
    "for i in range(len(possible_words)):\n",
    "    print(possible_words[i],s1_probabilities[i])\n",
    "print(\"S2, for referent 2\")\n",
    "s1_probabilities = logprobs_to_probs(s2(2,small_lexicon))\n",
    "for i in range(len(possible_words)):\n",
    "    print(possible_words[i],s1_probabilities[i])"
   ]
  },
  {
   "cell_type": "markdown",
   "metadata": {},
   "source": [
    "*So the s2 speaker just shows a stronger preference to avoid word2 when labelling referent 0, because they know that l1 is likely to interpret word2 as conveying something other than referent 0 despite its literal ambiguity.*"
   ]
  },
  {
   "cell_type": "code",
   "execution_count": 24,
   "metadata": {},
   "outputs": [
    {
     "name": "stdout",
     "output_type": "stream",
     "text": [
      "L1, after hearing word1\n",
      "referent 0 0.9920909364267967\n",
      "referent 1 0.003954531786601677\n",
      "referent 2 0.003954531786601677\n",
      "L1, after hearing word2\n",
      "referent 0 0.11155555555555559\n",
      "referent 1 0.4442222222222223\n",
      "referent 2 0.4442222222222223\n",
      "L2, after hearing word1\n",
      "referent 0 0.9807464425029756\n",
      "referent 1 0.009626778748512222\n",
      "referent 2 0.009626778748512222\n",
      "L2, after hearing word2\n",
      "referent 0 0.04851565660082567\n",
      "referent 1 0.47574217169958716\n",
      "referent 2 0.47574217169958716\n"
     ]
    }
   ],
   "source": [
    "print(\"L1, after hearing word1\")\n",
    "l1_probabilities = logprobs_to_probs(l1('word1',small_lexicon))\n",
    "for i in range(len(possible_referents)):\n",
    "    print('referent',possible_referents[i],l1_probabilities[i])\n",
    "print(\"L1, after hearing word2\")\n",
    "l1_probabilities = logprobs_to_probs(l1('word2',small_lexicon))\n",
    "for i in range(len(possible_referents)):\n",
    "    print('referent',possible_referents[i],l1_probabilities[i])\n",
    "print(\"L2, after hearing word1\")\n",
    "l1_probabilities = logprobs_to_probs(l2('word1',small_lexicon))\n",
    "for i in range(len(possible_referents)):\n",
    "    print('referent',possible_referents[i],l1_probabilities[i])\n",
    "print(\"L2, after hearing word2\")\n",
    "l1_probabilities = logprobs_to_probs(l2('word2',small_lexicon))\n",
    "for i in range(len(possible_referents)):\n",
    "    print('referent',possible_referents[i],l1_probabilities[i])"
   ]
  },
  {
   "cell_type": "markdown",
   "metadata": {},
   "source": [
    "*Similarly, l2 shows a slight sharpening of the patterns seen in l1. The gains don't look like they'd be huge though, so assuming there is some cost to extra levels of recursive reasoning, you might wonder whether and when it's worth the cognitive effort.*"
   ]
  },
  {
   "cell_type": "markdown",
   "metadata": {},
   "source": [
    "4. [Hard] Our `s0` and `s1` functions are models of how a (literal or pragmatic) speaker would speak given a particular lexicon: in other words, it's modelling a likelihood, p(data|lexicon), where data is a pairing of intended referents and words. Think about how you could use this as the basis for a model of word learning where the learner's task is to infer an entire lexicon based on the productions of a speaker using that lexicon (Hint: to do this you need to decide what the hypothesis space is and what the prior is). Is learning easier or harder when you learn from a literal or pragmatic speaker? If you are feeling brave, implement the model, otherwise have a think about what kinds of challenges a learner learning from a pragmatic speaker might face when it comes to inferring the \"correct\" (i.e. same as the teacher's) word meanings."
   ]
  },
  {
   "cell_type": "markdown",
   "metadata": {},
   "source": [
    "*So in this model the hypothesis space would be the set of all possible lexicons (which might get very large!) and we'd have to define a prior over lexicons, which commits us to making a decision about which lexicons are more likely. You could just use a uniform prior, but we'll see in the next lab (when we model compositionality) that actually thinking about things like the complexity of the lexicon (how many distinct forms does it use?) makes sense in these cases.*"
   ]
  },
  {
   "cell_type": "markdown",
   "metadata": {},
   "source": [
    "*I haven't provided an implementation of this full model, but just thinking about it: one of the challenges facing a learner who learns from pragmatic speakers is that the way they use words doesn't reflect their **real** meaning, which might meake it hard for learners to figure out what that real meaning is. For instance, in the `small_lexicon` example above, both the speaker and listener thing that word2 refers to referents 0, 1 and 2, but in practice when they use the word they tend to avoid using it for referent 0. As a result, and based on a small sample of observations of this behaviour, a learner might learn the wrong meaning for word2, namely `{1,2}`. That's the wrong thing to do if your goal is to infer the same lexicon as the person generating your data, but it does suggest that, if combined with iterated learning, this might work nicely as a model of language change where initial pragmatic flexibility becomes lixicalised/grammaticalised, resulting in changes in the meaning of words or expressions.*"
   ]
  }
 ],
 "metadata": {
  "kernelspec": {
   "display_name": "Python 3",
   "language": "python",
   "name": "python3"
  },
  "language_info": {
   "codemirror_mode": {
    "name": "ipython",
    "version": 3
   },
   "file_extension": ".py",
   "mimetype": "text/x-python",
   "name": "python",
   "nbconvert_exporter": "python",
   "pygments_lexer": "ipython3",
   "version": "3.7.3"
  }
 },
 "nbformat": 4,
 "nbformat_minor": 2
}
